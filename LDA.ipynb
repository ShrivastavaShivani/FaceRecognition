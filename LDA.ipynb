{
 "cells": [
  {
   "cell_type": "code",
   "execution_count": 0,
   "metadata": {
    "colab": {
     "base_uri": "https://localhost:8080/",
     "height": 34
    },
    "colab_type": "code",
    "id": "NIP_Nj-JEJPF",
    "outputId": "db16a9c6-efed-4ec0-f560-6c434bf6d388"
   },
   "outputs": [
    {
     "name": "stdout",
     "output_type": "stream",
     "text": [
      "Drive already mounted at /content/gdrive; to attempt to forcibly remount, call drive.mount(\"/content/gdrive\", force_remount=True).\n"
     ]
    }
   ],
   "source": [
    "from google.colab import drive\n",
    "drive.mount('/content/gdrive')"
   ]
  },
  {
   "cell_type": "markdown",
   "metadata": {
    "colab_type": "text",
    "id": "wQN5Qg73UnVK"
   },
   "source": [
    "Import all the necessary libraries"
   ]
  },
  {
   "cell_type": "code",
   "execution_count": 0,
   "metadata": {
    "colab": {},
    "colab_type": "code",
    "id": "WXDgcMO1IvXT"
   },
   "outputs": [],
   "source": [
    "import glob\n",
    "import cv2\n",
    "import pandas as pd\n",
    "import numpy as np\n",
    "from google.colab.patches import cv2_imshow\n",
    "from sklearn import preprocessing \n",
    "from sklearn.preprocessing import StandardScaler\n",
    "from sklearn.model_selection import train_test_split\n",
    "from sklearn.svm import SVC\n",
    "import matplotlib.pyplot as plt\n",
    "import sklearn.metrics as metrics \n",
    "from sklearn.discriminant_analysis import LinearDiscriminantAnalysis as LDA\n",
    "from sklearn.metrics import classification_report"
   ]
  },
  {
   "cell_type": "markdown",
   "metadata": {
    "colab_type": "text",
    "id": "s6fJf_5kUrS4"
   },
   "source": [
    "Loading dataset paths"
   ]
  },
  {
   "cell_type": "code",
   "execution_count": 0,
   "metadata": {
    "colab": {},
    "colab_type": "code",
    "id": "ggf1WjV0IvXb"
   },
   "outputs": [],
   "source": [
    "#Storing all path address into a list in order to fetch images\n",
    "files = glob.glob(\"/content/gdrive/My Drive/VR/Project - Face recognition/AVR_data/**/*.jpg\")\n",
    "paths = []\n",
    "names = []\n",
    "\n",
    "# Separating label names from path in order to make a target list of labels\n",
    "for file in files:\n",
    "  label_str = file.split(\"/\")[-2]\n",
    "  paths.append(file)\n",
    "  names.append(label_str)"
   ]
  },
  {
   "cell_type": "markdown",
   "metadata": {
    "colab_type": "text",
    "id": "0H-lMlaZUx6H"
   },
   "source": [
    "Image Preprocessing for converting image into standard form."
   ]
  },
  {
   "cell_type": "code",
   "execution_count": 0,
   "metadata": {
    "colab": {},
    "colab_type": "code",
    "id": "nv4auT8QIvXn"
   },
   "outputs": [],
   "source": [
    "def preprocess(image):\n",
    "\n",
    "  #Converting image into grayscale\n",
    "  gray = cv2.cvtColor(image,cv2.COLOR_BGR2GRAY)\n",
    "\n",
    "  #Resizing all images to 64x64 dimensions\n",
    "  standard_im = cv2.resize(gray, (64, 64))\n",
    "  \n",
    "  return standard_im"
   ]
  },
  {
   "cell_type": "markdown",
   "metadata": {
    "colab_type": "text",
    "id": "usfp41IBU71l"
   },
   "source": [
    "Label Encoding - To convert names of images into numbers for applying machine learning Model."
   ]
  },
  {
   "cell_type": "code",
   "execution_count": 0,
   "metadata": {
    "colab": {},
    "colab_type": "code",
    "id": "jjjtw3p4IvXs"
   },
   "outputs": [],
   "source": [
    "label_encoder = preprocessing.LabelEncoder() \n",
    "names= label_encoder.fit_transform(names) "
   ]
  },
  {
   "cell_type": "markdown",
   "metadata": {
    "colab_type": "text",
    "id": "7Yy3_dYzVTyZ"
   },
   "source": [
    "Loading Images into list"
   ]
  },
  {
   "cell_type": "code",
   "execution_count": 0,
   "metadata": {
    "colab": {},
    "colab_type": "code",
    "id": "61RTW8-AIvXy"
   },
   "outputs": [],
   "source": [
    "data = []\n",
    "for path in paths:\n",
    "\n",
    "  #Reading images using imread function of opencv\n",
    "  img = cv2.imread(path)\n",
    "\n",
    "  #preprocess images into standard form\n",
    "  pre = preprocess(img)\n",
    "  \n",
    "  data.append(pre)"
   ]
  },
  {
   "cell_type": "markdown",
   "metadata": {
    "colab_type": "text",
    "id": "zw4sHLOqVeMG"
   },
   "source": [
    "Converting images into numpy array for further processing"
   ]
  },
  {
   "cell_type": "code",
   "execution_count": 0,
   "metadata": {
    "colab": {
     "base_uri": "https://localhost:8080/",
     "height": 34
    },
    "colab_type": "code",
    "id": "1sMDosRnJMYY",
    "outputId": "2573ff84-f67d-4dcc-833a-a612af01c5dc"
   },
   "outputs": [
    {
     "name": "stdout",
     "output_type": "stream",
     "text": [
      "Shape of dataset :  (710, 64, 64)\n"
     ]
    }
   ],
   "source": [
    "X = np.asarray(data)\n",
    "print(\"Shape of dataset : \",X.shape)"
   ]
  },
  {
   "cell_type": "markdown",
   "metadata": {
    "colab_type": "text",
    "id": "Xkf1ZZb-VnBt"
   },
   "source": [
    "Reshaping the array or flattening images into 1 Dimensional array for making a matrix of dimension nxd (n = number of images in dataset and d = w*h dimension of 1d image array)"
   ]
  },
  {
   "cell_type": "code",
   "execution_count": 0,
   "metadata": {
    "colab": {},
    "colab_type": "code",
    "id": "SSu4hCe4U6yd"
   },
   "outputs": [],
   "source": [
    "X = X.reshape(X.shape[1]*X.shape[2],X.shape[0])"
   ]
  },
  {
   "cell_type": "markdown",
   "metadata": {
    "colab_type": "text",
    "id": "S3aAHiNaV5dU"
   },
   "source": [
    "Splitting dataset into train and test"
   ]
  },
  {
   "cell_type": "code",
   "execution_count": 0,
   "metadata": {
    "colab": {
     "base_uri": "https://localhost:8080/",
     "height": 50
    },
    "colab_type": "code",
    "id": "q48KhDaYra2g",
    "outputId": "1b72f5e9-acc9-4c85-8e7c-39d11c888719"
   },
   "outputs": [
    {
     "name": "stdout",
     "output_type": "stream",
     "text": [
      "X_train shape: (568, 4096)\n",
      "y_train shape:(568,)\n"
     ]
    }
   ],
   "source": [
    "X_train, X_test, y_train, y_test = train_test_split(X.T, names, test_size=0.2, random_state=0)\n",
    "print(\"X_train shape:\",X_train.shape)\n",
    "print(\"y_train shape:{}\".format(y_train.shape))"
   ]
  },
  {
   "cell_type": "code",
   "execution_count": 0,
   "metadata": {
    "colab": {},
    "colab_type": "code",
    "id": "gGCRMpgialMP"
   },
   "outputs": [],
   "source": [
    "sc = StandardScaler()\n",
    "X_train = sc.fit_transform(X_train)\n",
    "X_test = sc.transform(X_test)"
   ]
  },
  {
   "cell_type": "markdown",
   "metadata": {
    "colab_type": "text",
    "id": "AArRcq_WWGn1"
   },
   "source": [
    "Distribution of training dataset knowing how many samples are there per person (class)"
   ]
  },
  {
   "cell_type": "code",
   "execution_count": 0,
   "metadata": {
    "colab": {
     "base_uri": "https://localhost:8080/",
     "height": 533
    },
    "colab_type": "code",
    "id": "NURQPf6WWEya",
    "outputId": "6ef90e10-787e-46d7-e520-42c010b20c59"
   },
   "outputs": [
    {
     "data": {
      "text/plain": [
       "<matplotlib.axes._subplots.AxesSubplot at 0x7f46cd2d9240>"
      ]
     },
     "execution_count": 11,
     "metadata": {
      "tags": []
     },
     "output_type": "execute_result"
    },
    {
     "data": {
      "image/png": "[encoded data removed]",
      "text/plain": [
       "<Figure size 1080x576 with 1 Axes>"
      ]
     },
     "metadata": {
      "tags": []
     },
     "output_type": "display_data"
    }
   ],
   "source": [
    "y_frame=pd.DataFrame()\n",
    "y_frame['Faces']=y_train\n",
    "y_frame.groupby(['Faces']).size().plot.bar(figsize=(15,8),title=\"Number of Samples for Each Classes\")"
   ]
  },
  {
   "cell_type": "markdown",
   "metadata": {
    "colab_type": "text",
    "id": "fjOTF9d8Wh6x"
   },
   "source": [
    "Fitting Linear Discriminant model"
   ]
  },
  {
   "cell_type": "code",
   "execution_count": 0,
   "metadata": {
    "colab": {},
    "colab_type": "code",
    "id": "UKg0nFfSdgbq"
   },
   "outputs": [],
   "source": [
    "lda = LDA(n_components=2)\n",
    "lda.fit(X.T,names)\n",
    "X_lda=lda.transform(X.T)"
   ]
  },
  {
   "cell_type": "markdown",
   "metadata": {
    "colab_type": "text",
    "id": "3A2bU4R29Ayo"
   },
   "source": [
    "Finding necessary n_components"
   ]
  },
  {
   "cell_type": "code",
   "execution_count": 0,
   "metadata": {
    "colab": {
     "base_uri": "https://localhost:8080/",
     "height": 497
    },
    "colab_type": "code",
    "id": "7WBPtoSxeL_Y",
    "outputId": "a7d7b615-2eaf-4e2e-c0ce-972d5f3f5ad7"
   },
   "outputs": [
    {
     "data": {
      "image/png": "[encoded data removed]",
      "text/plain": [
       "<Figure size 864x576 with 1 Axes>"
      ]
     },
     "metadata": {
      "tags": []
     },
     "output_type": "display_data"
    }
   ],
   "source": [
    "lda=LDA()\n",
    "lda.fit(X.T,names)\n",
    "\n",
    "plt.figure(1, figsize=(12,8))\n",
    "\n",
    "plt.plot(lda.explained_variance_ratio_, linewidth=2)\n",
    " \n",
    "plt.xlabel('Components')\n",
    "plt.ylabel('Explained Variaces')\n",
    "plt.show()"
   ]
  },
  {
   "cell_type": "markdown",
   "metadata": {
    "colab_type": "text",
    "id": "5Vqdko4VWr-0"
   },
   "source": [
    "Transforming them using lda"
   ]
  },
  {
   "cell_type": "code",
   "execution_count": 0,
   "metadata": {
    "colab": {},
    "colab_type": "code",
    "id": "vEbuP5BaeYUS"
   },
   "outputs": [],
   "source": [
    "#we can figure out from plot above that 3 components can give us better results\n",
    "n_components = 3\n",
    "lda=LDA(n_components=n_components)\n",
    "\n",
    "#fit\n",
    "lda.fit(X_train,y_train)\n",
    "\n",
    "#transform\n",
    "X_train_lda=lda.transform(X_train)\n",
    "X_test_lda=lda.transform(X_test)"
   ]
  },
  {
   "cell_type": "markdown",
   "metadata": {
    "colab_type": "text",
    "id": "jfHimXDKWu8k"
   },
   "source": [
    "Applying model and finding out final accuracy"
   ]
  },
  {
   "cell_type": "code",
   "execution_count": 0,
   "metadata": {
    "colab": {
     "base_uri": "https://localhost:8080/",
     "height": 810
    },
    "colab_type": "code",
    "id": "AImTn3Vj32NX",
    "outputId": "20b57b78-c5a7-46e5-9177-d32857f2cc84"
   },
   "outputs": [
    {
     "name": "stdout",
     "output_type": "stream",
     "text": [
      "              precision    recall  f1-score   support\n",
      "\n",
      "           0       1.00      1.00      1.00         3\n",
      "           1       1.00      1.00      1.00         5\n",
      "           2       0.75      1.00      0.86         3\n",
      "           3       1.00      0.50      0.67         2\n",
      "           4       0.33      0.40      0.36         5\n",
      "           5       1.00      1.00      1.00         1\n",
      "           6       1.00      0.33      0.50         6\n",
      "           7       0.25      0.50      0.33         2\n",
      "           8       0.67      1.00      0.80         2\n",
      "           9       1.00      1.00      1.00         3\n",
      "          10       0.50      0.33      0.40         3\n",
      "          11       0.57      0.57      0.57         7\n",
      "          12       0.75      1.00      0.86         3\n",
      "          13       0.67      0.50      0.57         4\n",
      "          14       0.71      1.00      0.83         5\n",
      "          15       0.33      0.33      0.33         3\n",
      "          16       0.83      0.71      0.77         7\n",
      "          17       0.60      0.75      0.67         4\n",
      "          18       1.00      1.00      1.00         1\n",
      "          19       0.80      0.57      0.67         7\n",
      "          20       0.75      0.60      0.67         5\n",
      "          21       0.00      0.00      0.00         2\n",
      "          22       0.50      1.00      0.67         1\n",
      "          23       0.43      0.60      0.50         5\n",
      "          24       0.67      0.80      0.73         5\n",
      "          25       1.00      0.67      0.80         3\n",
      "          26       0.50      0.33      0.40         3\n",
      "          27       1.00      0.25      0.40         4\n",
      "          28       0.60      0.75      0.67         4\n",
      "          29       0.60      0.75      0.67         4\n",
      "          30       0.67      1.00      0.80         4\n",
      "          31       1.00      0.75      0.86         4\n",
      "          32       0.50      0.75      0.60         4\n",
      "          33       0.75      0.60      0.67         5\n",
      "          34       0.80      1.00      0.89         4\n",
      "          35       0.86      1.00      0.92         6\n",
      "          36       0.00      0.00      0.00         3\n",
      "\n",
      "    accuracy                           0.68       142\n",
      "   macro avg       0.69      0.69      0.66       142\n",
      "weighted avg       0.70      0.68      0.66       142\n",
      "\n"
     ]
    },
    {
     "name": "stderr",
     "output_type": "stream",
     "text": [
      "/usr/local/lib/python3.6/dist-packages/sklearn/metrics/_classification.py:1272: UndefinedMetricWarning: Precision and F-score are ill-defined and being set to 0.0 in labels with no predicted samples. Use `zero_division` parameter to control this behavior.\n",
      "  _warn_prf(average, modifier, msg_start, len(result))\n"
     ]
    }
   ],
   "source": [
    "clf = SVC(kernel='rbf',C=1000,gamma=0.001)\n",
    "clf = clf.fit(X_train_lda, y_train)\n",
    "y_pred = clf.predict(X_test_lda)\n",
    "print(classification_report(y_test, y_pred))"
   ]
  }
 ],
 "metadata": {
  "colab": {
   "name": "LDA.ipynb",
   "provenance": []
  },
  "kernelspec": {
   "display_name": "Python 3",
   "language": "python",
   "name": "python3"
  },
  "language_info": {
   "codemirror_mode": {
    "name": "ipython",
    "version": 3
   },
   "file_extension": ".py",
   "mimetype": "text/x-python",
   "name": "python",
   "nbconvert_exporter": "python",
   "pygments_lexer": "ipython3",
   "version": "3.6.9"
  }
 },
 "nbformat": 4,
 "nbformat_minor": 1
}
